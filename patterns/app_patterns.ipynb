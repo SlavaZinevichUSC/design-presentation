{
 "cells": [
  {
   "cell_type": "code",
   "id": "initial_id",
   "metadata": {
    "collapsed": true,
    "ExecuteTime": {
     "end_time": "2025-03-11T01:34:00.781900Z",
     "start_time": "2025-03-11T01:34:00.777403Z"
    }
   },
   "source": [
    "#DOMAIN DRIVEN DESIGN:\n",
    "#Problem: create an application that has users, each of whom has a balance that can update.\n",
    "\n",
    "#The application will have 3 parts: Database, Authentication service, UI\n",
    "\n",
    "class Domain:\n",
    "    def __init__(self, name):\n",
    "        self.name = name\n",
    "\n",
    "    def do_something(self, *args, **kwargs):\n",
    "        pass\n",
    "\n",
    "    def __repr__(self):\n",
    "        return f\"<Domain: {self.name}>\"\n"
   ],
   "outputs": [],
   "execution_count": 203
  },
  {
   "metadata": {
    "ExecuteTime": {
     "end_time": "2025-03-11T01:34:00.917173Z",
     "start_time": "2025-03-11T01:34:00.914623Z"
    }
   },
   "cell_type": "code",
   "source": [
    "#Lets add Database Domain\n",
    "#each Domain has Aggregates : for us its self.databases\n",
    "#each aggregate has entities\n",
    "\n",
    "\n",
    "class Database:\n",
    "    def __init__(self, name):\n",
    "        self.name = name\n",
    "\n",
    "class DataDomain(Domain):\n",
    "    def __init__(self, name, databases:  [Database]):\n",
    "        super().__init__(name)\n",
    "        self.databases = dict([(db.name, db) for db in databases])\n",
    "\n",
    "    def get_database(self, name):\n",
    "        return self.databases.get(name, None)\n"
   ],
   "id": "99e13a6b378e4d48",
   "outputs": [],
   "execution_count": 204
  },
  {
   "metadata": {
    "ExecuteTime": {
     "end_time": "2025-03-11T01:34:01.063360Z",
     "start_time": "2025-03-11T01:34:01.061804Z"
    }
   },
   "cell_type": "code",
   "source": [
    "#we need a user database, what should it have?\n",
    "\n",
    "\n",
    "#1.\n",
    "\n",
    "#2.\n",
    "\n",
    "#3.\n",
    "\n",
    "#4.\n",
    "\n",
    "\n",
    "\n",
    "\n",
    "\n"
   ],
   "id": "e51acbddae20bd02",
   "outputs": [],
   "execution_count": 205
  },
  {
   "metadata": {
    "ExecuteTime": {
     "end_time": "2025-03-11T01:34:01.195538Z",
     "start_time": "2025-03-11T01:34:01.192479Z"
    }
   },
   "cell_type": "code",
   "source": [
    "\n",
    "from dataclasses import dataclass\n",
    "@dataclass\n",
    "class User:\n",
    "    id: int\n",
    "    username: str\n",
    "    password: str = '0000'\n",
    "    balance: int = 0\n",
    "\n",
    "#CRUD: we can check if user exists, add user, update user, delete.\n",
    "\n",
    "#lets define an interface\n",
    "class Userbase(Database):\n",
    "    def __init__(self, name):\n",
    "        super().__init__(name)\n",
    "\n",
    "    def get_user(self, id, password):\n",
    "        return User(id, 'user')\n",
    "\n",
    "    def add_user(self, user: User):\n",
    "        pass #or notimplementexception\n",
    "\n",
    "    def update_user(self, user: User):\n",
    "        pass\n",
    "\n",
    "    def delete_user(self, id):\n",
    "        pass\n"
   ],
   "id": "eb2851cdb27d9af1",
   "outputs": [],
   "execution_count": 206
  },
  {
   "metadata": {
    "ExecuteTime": {
     "end_time": "2025-03-11T01:34:01.333889Z",
     "start_time": "2025-03-11T01:34:01.328949Z"
    }
   },
   "cell_type": "code",
   "source": [
    "#Add a simple implementation\n",
    "\n",
    "class SimpleUserbase(Userbase):\n",
    "    def __init__(self, name, users:dict[int, User] = None):\n",
    "        super().__init__(name)\n",
    "        self.users = users if users else {1: User(1, 'user')}\n",
    "\n",
    "    def get_user(self, username):\n",
    "        for user in self.users.values():\n",
    "            if user.username == username:\n",
    "                return user\n",
    "        return None\n",
    "\n",
    "    def add_user(self, user: User):\n",
    "        if user.id not in self.users:\n",
    "            self.users[user.id] = user\n",
    "            return True\n",
    "        return False\n",
    "\n",
    "    def update_user(self, user: User):\n",
    "        if user.id not in self.users:\n",
    "            return False\n",
    "        self.users[user.id] = user\n",
    "        return True\n",
    "\n",
    "    def delete_user(self, id):\n",
    "        if id in self.users:\n",
    "            del self.users[id]\n",
    "            return True\n",
    "        return False\n",
    "\n"
   ],
   "id": "5a2036f91fa2933d",
   "outputs": [],
   "execution_count": 207
  },
  {
   "metadata": {
    "ExecuteTime": {
     "end_time": "2025-03-11T01:34:01.470813Z",
     "start_time": "2025-03-11T01:34:01.468954Z"
    }
   },
   "cell_type": "code",
   "source": [
    "user_db = SimpleUserbase(name = 'user_db')\n",
    "data_domain = DataDomain(name = 'data_domain', databases = [user_db])\n"
   ],
   "id": "94fde8397dd2079",
   "outputs": [],
   "execution_count": 208
  },
  {
   "metadata": {
    "ExecuteTime": {
     "end_time": "2025-03-11T01:34:01.613488Z",
     "start_time": "2025-03-11T01:34:01.610367Z"
    }
   },
   "cell_type": "code",
   "source": [
    "#how do we reach the database?\n",
    "\n",
    "class Authentication:\n",
    "    def __init__(self, database: Userbase):\n",
    "        self.database = database\n",
    "\n",
    "    def check_user(self, username):\n",
    "        return self.database.get_user(username) is not None\n",
    "\n",
    "    def authenticate(self, username, password):\n",
    "        user = self.database.get_user(username)\n",
    "        if user and user.password == password:\n",
    "            return user\n",
    "        return None\n",
    "\n",
    "    def store_user(self, user: User):\n",
    "        return self.database.add_user(user)\n",
    "\n",
    "\n",
    "class AuthenticationDomain(Domain):\n",
    "    def __init__(self, name, database: Userbase):\n",
    "        super().__init__(name)\n",
    "        self.database = database\n",
    "\n",
    "    def get_user_authentication(self):\n",
    "        return Authentication(self.database)\n"
   ],
   "id": "dc6e1799f63041a4",
   "outputs": [],
   "execution_count": 209
  },
  {
   "metadata": {
    "ExecuteTime": {
     "end_time": "2025-03-11T01:34:01.767923Z",
     "start_time": "2025-03-11T01:34:01.765711Z"
    }
   },
   "cell_type": "code",
   "source": [
    "#Front-end\n",
    "class UI(Domain):\n",
    "    def __init__(self, name, authentication: Authentication):\n",
    "        super().__init__(name)\n",
    "        self.authentication = authentication\n",
    "\n",
    "    def get_login_vm(self, id, password):\n",
    "        pass\n",
    "\n"
   ],
   "id": "1ffdc6ded75fc1ba",
   "outputs": [],
   "execution_count": 210
  },
  {
   "metadata": {
    "ExecuteTime": {
     "end_time": "2025-03-11T01:34:01.930458Z",
     "start_time": "2025-03-11T01:34:01.921020Z"
    }
   },
   "cell_type": "code",
   "source": [
    "class ViewModel:\n",
    "    def __init__(self, name: str):\n",
    "        self.name = name\n",
    "\n",
    "    def display(self):\n",
    "        #list api of vm\n",
    "        pass\n",
    "\n",
    "    def __repr__(self):\n",
    "        print(f\"To see available functionality, call .display()\")\n",
    "\n",
    "\n",
    "class LoginViewModel(ViewModel):\n",
    "    def __init__(self, authentication: Authentication):\n",
    "        super().__init__('login_vm')\n",
    "        self.authentication = authentication\n",
    "\n",
    "    def display(self):\n",
    "        print(f\".login(username, password)\\n.validate(username\")\n",
    "\n",
    "    def validate(self, username):\n",
    "        return self.authentication.check_user(username)\n",
    "\n",
    "    def login(self, username, password):\n",
    "        user = self.authentication.authenticate(username, password)\n",
    "        if user:\n",
    "            print(f\"Welcome {user.username}\")\n",
    "            return None #interaction vm\n",
    "        else:\n",
    "            print(\"Invalid username or password\")\n",
    "            return None\n",
    "\n",
    "\n"
   ],
   "id": "a001b0468e3a25c9",
   "outputs": [],
   "execution_count": 211
  },
  {
   "metadata": {
    "ExecuteTime": {
     "end_time": "2025-03-11T01:34:02.278430Z",
     "start_time": "2025-03-11T01:34:02.275707Z"
    }
   },
   "cell_type": "code",
   "source": [
    "class InteractionViewModel(ViewModel):\n",
    "    def __init__(self, user: User):\n",
    "        super().__init__('interaction_vm')\n",
    "        self.user = user\n",
    "\n",
    "    def display(self):\n",
    "        print(f\".update_balance(amount)\\n.show_balance()\")\n",
    "        print(f\"when done, call ui.save(this_vm)\")\n",
    "\n",
    "    def update_balance(self, amount):\n",
    "        self.user.balance += amount\n",
    "\n",
    "    def show_balance(self):\n",
    "        print(f\"Balance: {self.user.balance}\")\n",
    "\n"
   ],
   "id": "2f9896deb9e6dc34",
   "outputs": [],
   "execution_count": 212
  },
  {
   "metadata": {
    "ExecuteTime": {
     "end_time": "2025-03-11T01:34:02.956193Z",
     "start_time": "2025-03-11T01:34:02.953893Z"
    }
   },
   "cell_type": "code",
   "source": "#LETS REDO APPROPRIATELY",
   "id": "6d2f92a0e9993e5a",
   "outputs": [],
   "execution_count": 213
  },
  {
   "metadata": {
    "ExecuteTime": {
     "end_time": "2025-03-11T01:34:03.431660Z",
     "start_time": "2025-03-11T01:34:03.426953Z"
    }
   },
   "cell_type": "code",
   "source": [
    "\n",
    "\n",
    "class LoginViewModel(ViewModel):\n",
    "    def __init__(self, authentication: Authentication):\n",
    "        super().__init__('login_vm')\n",
    "        self.authentication = authentication\n",
    "\n",
    "    def display(self):\n",
    "        print(f\".login(username, password)\\n.validate(username\")\n",
    "\n",
    "    def validate(self, username):\n",
    "        return self.authentication.check_user(username)\n",
    "\n",
    "    def login(self, username, password):\n",
    "        user = self.authentication.authenticate(username, password)\n",
    "        if user:\n",
    "            print(f\"Welcome {user.username}\")\n",
    "            return InteractionViewModel(user)\n",
    "        else:\n",
    "            print(\"Invalid username or password\")\n",
    "            return None\n",
    "\n",
    "class ValidateViewModel(ViewModel):\n",
    "    def __init__(self, authentication: Authentication):\n",
    "        super().__init__('validate_vm')\n",
    "        self.authentication = authentication\n",
    "\n",
    "    def display(self):\n",
    "        print(f\".validate(username)\")\n",
    "\n",
    "    def validate(self, username):\n",
    "        validation = self.authentication.check_user(username)\n",
    "        if validation:\n",
    "            print(f\"Username {username} is valid\")\n",
    "        else:\n",
    "            print(f\"Username {username} is invalid\")\n",
    "        return validation\n",
    "\n",
    "#Front-end\n",
    "class UI(Domain):\n",
    "    def __init__(self, name, authentication: Authentication):\n",
    "        super().__init__(name)\n",
    "        self.authentication = authentication\n",
    "\n",
    "    def get_login_vm(self):\n",
    "        return LoginViewModel(self.authentication)\n",
    "\n",
    "    def get_validate_vm(self, username):\n",
    "        return ValidateViewModel(self.authentication)\n",
    "\n",
    "    def save(self, vm):\n",
    "        self.authentication.store_user(vm.user)\n"
   ],
   "id": "1c5c2018f32686ea",
   "outputs": [],
   "execution_count": 214
  },
  {
   "metadata": {
    "ExecuteTime": {
     "end_time": "2025-03-11T01:34:03.875853Z",
     "start_time": "2025-03-11T01:34:03.874153Z"
    }
   },
   "cell_type": "code",
   "source": "#Now we're ready to build the application!",
   "id": "3586591a6e30fb2e",
   "outputs": [],
   "execution_count": 215
  },
  {
   "metadata": {
    "ExecuteTime": {
     "end_time": "2025-03-11T01:34:12.487778Z",
     "start_time": "2025-03-11T01:34:12.484590Z"
    }
   },
   "cell_type": "code",
   "source": [
    "def build_application():\n",
    "    user_db = SimpleUserbase(name = 'user_db')\n",
    "    data_domain = DataDomain(name = 'data_domain', databases = [user_db])\n",
    "    authentication = AuthenticationDomain(name = 'authentication', database = data_domain.get_database('user_db'))\n",
    "    ui = UI(name = 'ui', authentication = authentication.get_user_authentication())\n",
    "    return ui\n",
    "\n",
    "ui = build_application()"
   ],
   "id": "4f58388719791112",
   "outputs": [],
   "execution_count": 217
  },
  {
   "metadata": {
    "ExecuteTime": {
     "end_time": "2025-03-11T01:34:13.244435Z",
     "start_time": "2025-03-11T01:34:13.240092Z"
    }
   },
   "cell_type": "code",
   "source": [
    "#Lets use our application!\n",
    "validate_vm = ui.get_validate_vm('user')\n",
    "validate_vm.display()\n",
    "validate_vm.validate('user')"
   ],
   "id": "2cdd3c88791fcff5",
   "outputs": [
    {
     "name": "stdout",
     "output_type": "stream",
     "text": [
      ".validate(username)\n",
      "Username user is valid\n"
     ]
    },
    {
     "data": {
      "text/plain": [
       "True"
      ]
     },
     "execution_count": 218,
     "metadata": {},
     "output_type": "execute_result"
    }
   ],
   "execution_count": 218
  },
  {
   "metadata": {
    "ExecuteTime": {
     "end_time": "2025-03-11T01:34:13.692242Z",
     "start_time": "2025-03-11T01:34:13.689788Z"
    }
   },
   "cell_type": "code",
   "source": [
    "login_vm = ui.get_login_vm()\n",
    "login_vm.display()\n",
    "interactive_vm = login_vm.login('user', '0000')\n",
    "interactive_vm.display()\n",
    "interactive_vm.update_balance(100)\n",
    "interactive_vm.show_balance()\n",
    "ui.save(interactive_vm)"
   ],
   "id": "feee5126e044d843",
   "outputs": [
    {
     "name": "stdout",
     "output_type": "stream",
     "text": [
      ".login(username, password)\n",
      ".validate(username\n",
      "Welcome user\n",
      ".update_balance(amount)\n",
      ".show_balance()\n",
      "when done, call ui.save(this_vm)\n",
      "Balance: 100\n"
     ]
    }
   ],
   "execution_count": 219
  },
  {
   "metadata": {
    "ExecuteTime": {
     "end_time": "2025-03-11T01:34:15.666215Z",
     "start_time": "2025-03-11T01:34:15.663347Z"
    }
   },
   "cell_type": "code",
   "source": [
    "\n",
    "ui.authentication.database.users"
   ],
   "id": "55077dac656ec026",
   "outputs": [
    {
     "data": {
      "text/plain": [
       "{1: User(id=1, username='user', password='0000', balance=100)}"
      ]
     },
     "execution_count": 220,
     "metadata": {},
     "output_type": "execute_result"
    }
   ],
   "execution_count": 220
  },
  {
   "metadata": {
    "ExecuteTime": {
     "end_time": "2025-03-11T01:24:42.616500Z",
     "start_time": "2025-03-11T01:24:42.612193Z"
    }
   },
   "cell_type": "code",
   "source": [
    "#DESIGN PATTERNS!\n",
    "\n",
    "#https://refactoring.guru/design-patterns"
   ],
   "id": "3e4df08b5f970256",
   "outputs": [],
   "execution_count": 200
  },
  {
   "metadata": {
    "ExecuteTime": {
     "end_time": "2025-03-11T01:39:13.804809Z",
     "start_time": "2025-03-11T01:39:13.788438Z"
    }
   },
   "cell_type": "code",
   "source": [
    "#We need system to directly inject the database into authentication_domain - DEPENDENCY\n",
    "#we need system to directly inject user authentication into ui domain - DEPENDENCY\n",
    "\n",
    "#PATTERN ONE: Registrar/Resolver\n",
    "\n",
    "class Registrar:\n",
    "    def __init__(self):\n",
    "        pass\n",
    "\n",
    "    def register(self, entity_name: str, entity: object):\n",
    "        pass\n",
    "\n",
    "class Resolver:\n",
    "    def __init__(self):\n",
    "        pass\n",
    "\n",
    "    def resolve(self, entity_name: str):\n",
    "        pass\n",
    "\n",
    "class RegistrarResolver(Registrar, Resolver):\n",
    "    def __init__(self):\n",
    "        super().__init__()\n",
    "        self.inventory = {}\n",
    "\n",
    "    def register(self, entity_name: str, entity: object):\n",
    "        self.inventory[entity_name] = entity\n",
    "\n",
    "    def resolve(self, entity_name: str):\n",
    "        return self.inventory.get(entity_name, None)\n",
    "\n",
    "\n",
    "\n",
    "\n",
    "\n",
    "\n"
   ],
   "id": "206def7bab1f4197",
   "outputs": [],
   "execution_count": 221
  },
  {
   "metadata": {},
   "cell_type": "code",
   "outputs": [],
   "execution_count": null,
   "source": [
    "#Singletons / services\n",
    "#Sinleton benefits:\n",
    "#1. Thread safety\n",
    "#2. no need for duplicate memory\n",
    "#3.other\n",
    "\n",
    "\n",
    "#We want to add a logger!\n",
    "#our logger will be 'thread safe' and only 'write-to-disk' on flush\n",
    "\n",
    "#We want to add a custom output screen!\n",
    "#service - stateless"
   ],
   "id": "bf134aa31245d3d3"
  },
  {
   "metadata": {},
   "cell_type": "code",
   "outputs": [],
   "execution_count": null,
   "source": [
    "class Logger:\n",
    "    def __init__(self):\n",
    "        self.buffer = []\n",
    "        self.lock = False\n",
    "\n",
    "    def log(self, message):\n",
    "        def sleep(seconds):\n",
    "            pass\n",
    "        while self.lock:\n",
    "            sleep(1)\n",
    "\n",
    "        #acquire lock\n",
    "        self.lock = True\n",
    "        #perform operation\n",
    "        self.buffer.append(message)\n",
    "        #release lock\n",
    "        self.lock = False\n",
    "\n",
    "    def flush(self):\n",
    "        #write out to memory\n",
    "        self.buffer = []\n",
    "        pass"
   ],
   "id": "fb7068966e913ce"
  },
  {
   "metadata": {
    "ExecuteTime": {
     "end_time": "2025-03-11T03:07:31.596533Z",
     "start_time": "2025-03-11T03:07:31.591051Z"
    }
   },
   "cell_type": "code",
   "source": [
    "class OutputScreen:\n",
    "    def __init__(self, add_exclamation: bool = False):\n",
    "        self.add_exclamation = add_exclamation\n",
    "        pass\n",
    "\n",
    "    def show(self, message):\n",
    "        print(message)\n",
    "        if self.add_exclamation:\n",
    "            print('!')"
   ],
   "id": "6db43f1da8fd602a",
   "outputs": [],
   "execution_count": 222
  },
  {
   "metadata": {
    "ExecuteTime": {
     "end_time": "2025-03-11T03:18:19.414411Z",
     "start_time": "2025-03-11T03:18:19.409353Z"
    }
   },
   "cell_type": "code",
   "source": [
    "#OBSERVER - SUBSCRIBER\n",
    "\n",
    "#OBSERVER SUBSCRIBER is a kind of MQ system that allows us to have a single source of truth\n",
    "\n",
    "#1. Say you have multiple view models / components / frames that use information about an object (maybe stock)\n",
    "#That information needs to be periodically updated based on a url GET\n",
    "#Instead of manually updating every single dependant view with a separate GET\n",
    "#we can have a single source of truth that decides to update and then the interested components who listen to it (subscribers) get updated automagically\n",
    "#The views can also be thought of as separate devices. If an update occurs in a database (maybe a news update), now all devices that subscribe to this newsletter will get the newest news\n",
    "#This is referred to as a PUSH model as opposed to a PULL model\n",
    "#Think of it as push notifications vs mail that only updates when you open the inbox\n",
    "\n",
    "#Rx is a great library for this1"
   ],
   "id": "958cee06a1e5330b",
   "outputs": [],
   "execution_count": 225
  },
  {
   "metadata": {},
   "cell_type": "code",
   "outputs": [],
   "execution_count": null,
   "source": "\n",
   "id": "fe9245e61657a82a"
  }
 ],
 "metadata": {
  "kernelspec": {
   "display_name": "Python 3",
   "language": "python",
   "name": "python3"
  },
  "language_info": {
   "codemirror_mode": {
    "name": "ipython",
    "version": 2
   },
   "file_extension": ".py",
   "mimetype": "text/x-python",
   "name": "python",
   "nbconvert_exporter": "python",
   "pygments_lexer": "ipython2",
   "version": "2.7.6"
  }
 },
 "nbformat": 4,
 "nbformat_minor": 5
}
