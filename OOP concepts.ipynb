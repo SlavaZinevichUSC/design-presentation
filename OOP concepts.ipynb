{
 "cells": [
  {
   "metadata": {},
   "cell_type": "raw",
   "source": "",
   "id": "37a2f2bf805f091a"
  },
  {
   "metadata": {
    "collapsed": true,
    "ExecuteTime": {
     "end_time": "2025-03-10T00:52:38.191495Z",
     "start_time": "2025-03-10T00:52:38.184020Z"
    }
   },
   "cell_type": "code",
   "source": [
    "#Encapsulation:\n",
    "\n",
    "class Person():\n",
    "    def __init__(self, name = 'John', athleticism = 1):\n",
    "        self.name = name\n",
    "        self.athleticism = athleticism\n",
    "\n",
    "    def Train(self, amount = 1):\n",
    "        self.athleticism += amount\n",
    "\n",
    "    def __repr__(self):\n",
    "        return f\"Hi, my name is {self.name} and I am '{self.athleticism}' athletic\"\n",
    "\n",
    "    def __str__(self):\n",
    "        return self.__repr__()"
   ],
   "id": "initial_id",
   "outputs": [],
   "execution_count": 93
  },
  {
   "metadata": {
    "ExecuteTime": {
     "end_time": "2025-03-10T00:52:40.193876Z",
     "start_time": "2025-03-10T00:52:40.190885Z"
    }
   },
   "cell_type": "code",
   "source": [
    "person_oop = Person()\n",
    "print(person_oop)\n",
    "\n",
    "person_oop.athleticism = 2\n",
    "print(person_oop)"
   ],
   "id": "5c6e59da799b2f6a",
   "outputs": [
    {
     "name": "stdout",
     "output_type": "stream",
     "text": [
      "Hi, my name is John and I am '1' athletic\n",
      "Hi, my name is John and I am '2' athletic\n"
     ]
    }
   ],
   "execution_count": 94
  },
  {
   "metadata": {
    "ExecuteTime": {
     "end_time": "2025-03-10T00:52:40.339192Z",
     "start_time": "2025-03-10T00:52:40.336840Z"
    }
   },
   "cell_type": "code",
   "source": [
    "#non-oop\n",
    "\n",
    "person_func = {}\n",
    "person_func['name'] = 'John'\n",
    "person_func['athleticism'] = 1\n",
    "person_func['str'] = f\"Hi, my name is {person_func['name']}, I am '{person_func['athleticism']}' athletic\"\n",
    "\n",
    "print(person_func['str'])\n"
   ],
   "id": "8907706315e238c6",
   "outputs": [
    {
     "name": "stdout",
     "output_type": "stream",
     "text": [
      "Hi, my name is John, I am '1' athletic\n"
     ]
    }
   ],
   "execution_count": 95
  },
  {
   "metadata": {
    "ExecuteTime": {
     "end_time": "2025-03-10T00:52:40.501467Z",
     "start_time": "2025-03-10T00:52:40.499128Z"
    }
   },
   "cell_type": "code",
   "source": [
    "person_func['str'] = lambda: f\"Hi, my name is {person_func['name']}, I am '{person_func['athleticism']}' athletic\"\n",
    "print(person_func['str']())\n",
    "\n",
    "person_func['athleticism'] = 2\n",
    "print(person_func['str']())\n",
    "\n",
    "#person_func['train'] = lambda x: person_func['athleticism'] := person_func['athleticism'] + x"
   ],
   "id": "3c1806b2acb6596e",
   "outputs": [
    {
     "name": "stdout",
     "output_type": "stream",
     "text": [
      "Hi, my name is John, I am '1' athletic\n",
      "Hi, my name is John, I am '2' athletic\n"
     ]
    }
   ],
   "execution_count": 96
  },
  {
   "metadata": {
    "ExecuteTime": {
     "end_time": "2025-03-10T00:52:40.644842Z",
     "start_time": "2025-03-10T00:52:40.642118Z"
    }
   },
   "cell_type": "code",
   "source": [
    "#We can even create a function to represent __init__:\n",
    "\n",
    "def create_person(name = 'John', athleticism = 1):\n",
    "    created_person = {}\n",
    "    created_person['name'] = name\n",
    "    created_person['athleticism'] = athleticism\n",
    "    created_person['str'] = lambda: f\"Hi, my name is {created_person['name']}, I am '{created_person['athleticism']}' athletic\"\n",
    "    return created_person\n",
    "\n",
    "def train_person(person, amount = 1):\n",
    "    person['athleticism'] += amount\n",
    "\n",
    "person_func = create_person('John', 1)\n",
    "print(person_func['str']())\n",
    "\n",
    "train_person(person_func, 2)\n",
    "print(person_func['str']())\n"
   ],
   "id": "ade8660fcb157907",
   "outputs": [
    {
     "name": "stdout",
     "output_type": "stream",
     "text": [
      "Hi, my name is John, I am '1' athletic\n",
      "Hi, my name is John, I am '3' athletic\n"
     ]
    }
   ],
   "execution_count": 97
  },
  {
   "metadata": {
    "ExecuteTime": {
     "end_time": "2025-03-10T00:52:40.800143Z",
     "start_time": "2025-03-10T00:52:40.797604Z"
    }
   },
   "cell_type": "code",
   "source": [
    "#INHERITANCE\n",
    "\n",
    "class Athlete(Person):\n",
    "    def __init__(self, name = 'John', athleticism = 10):\n",
    "        super().__init__(name, athleticism)\n",
    "\n",
    "    def __repr__(self):\n",
    "        response = super().__repr__()\n",
    "        return f\"{response}, I am an athlete\"\n",
    "\n",
    "athlete_oop = Athlete()\n",
    "print(athlete_oop)\n",
    "\n"
   ],
   "id": "cd42fdd73f2b4550",
   "outputs": [
    {
     "name": "stdout",
     "output_type": "stream",
     "text": [
      "Hi, my name is John and I am '10' athletic, I am an athlete\n"
     ]
    }
   ],
   "execution_count": 98
  },
  {
   "metadata": {
    "ExecuteTime": {
     "end_time": "2025-03-10T00:52:40.961033Z",
     "start_time": "2025-03-10T00:52:40.958567Z"
    }
   },
   "cell_type": "code",
   "source": [
    "#non-oop\n",
    "\n",
    "def create_athlete(name = 'John', athleticism = 10):\n",
    "    created_athlete = create_person(name, athleticism)\n",
    "    response = created_athlete['str']()\n",
    "    created_athlete['str'] = lambda: f\"{response}, I am an athlete\"\n",
    "    return created_athlete\n",
    "\n",
    "athlete_func = create_athlete()\n",
    "print(athlete_func['str']())"
   ],
   "id": "563fb31757dda79f",
   "outputs": [
    {
     "name": "stdout",
     "output_type": "stream",
     "text": [
      "Hi, my name is John, I am '10' athletic, I am an athlete\n"
     ]
    }
   ],
   "execution_count": 99
  },
  {
   "metadata": {
    "ExecuteTime": {
     "end_time": "2025-03-10T00:52:41.126787Z",
     "start_time": "2025-03-10T00:52:41.124102Z"
    }
   },
   "cell_type": "code",
   "source": [
    "class ProAthlete(Athlete):\n",
    "    def __init__(self, name = 'John', athleticism = 10, sport = ''):\n",
    "        super().__init__(name, athleticism)\n",
    "        self.pro_athleticism = sport\n",
    "\n",
    "    def play(self):\n",
    "        pass\n",
    "\n",
    "    def __repr__(self):\n",
    "        response = super().__repr__()\n",
    "        return f\"{response}, I am a pro athlete, I play {self.pro_athleticism}\"\n",
    "\n",
    "    @staticmethod\n",
    "    def createTennisPlayer():\n",
    "        return ProAthlete(sport = 'tennis')\n",
    "\n",
    "    @staticmethod\n",
    "    def createBasketballPlayer():\n",
    "        return ProAthlete(sport = 'basketball')\n",
    "\n"
   ],
   "id": "1e4b08ee12fe07b3",
   "outputs": [],
   "execution_count": 100
  },
  {
   "metadata": {
    "ExecuteTime": {
     "end_time": "2025-03-10T00:52:41.666410Z",
     "start_time": "2025-03-10T00:52:41.663586Z"
    }
   },
   "cell_type": "code",
   "source": [
    "def create_pro_athlete(sport=''):\n",
    "    created_pro_athlete = create_athlete()\n",
    "    created_pro_athlete['pro_athleticism'] = sport\n",
    "    response = created_pro_athlete['str']()\n",
    "    created_pro_athlete['str'] = lambda: f\"{response}, I am a pro athlete, I play {sport}\"\n",
    "    return created_pro_athlete\n",
    "\n",
    "def create_tennis_player():\n",
    "    return create_pro_athlete('tennis')\n",
    "\n",
    "def create_basketball_player():\n",
    "    return create_pro_athlete('basketball')\n"
   ],
   "id": "5b0a64f2ef3fd393",
   "outputs": [],
   "execution_count": 101
  },
  {
   "metadata": {
    "ExecuteTime": {
     "end_time": "2025-03-10T00:52:42.143972Z",
     "start_time": "2025-03-10T00:52:42.140457Z"
    }
   },
   "cell_type": "code",
   "source": [
    "class ProAthlete(Athlete):\n",
    "    def __init__(self, name = 'John', athleticism = 10, sport = ''):\n",
    "        super().__init__(name, athleticism)\n",
    "        self.pro_athleticism = sport\n",
    "\n",
    "    def play(self):\n",
    "        pass\n",
    "\n",
    "    def __repr__(self):\n",
    "        response = super().__repr__()\n",
    "        return f\"{response}, I am a pro athlete, I play {self.pro_athleticism}\"\n",
    "\n",
    "    def isCompetitor(self, other_athlete):\n",
    "        return self.pro_athleticism == other_athlete.pro_athleticism\n",
    "\n",
    "    @staticmethod\n",
    "    def createTennisPlayer():\n",
    "        return ProAthlete(sport = 'tennis')\n",
    "\n",
    "    @staticmethod\n",
    "    def createBasketballPlayer():\n",
    "        return ProAthlete(sport = 'basketball')\n",
    "\n",
    "athlete1 = ProAthlete.createTennisPlayer()\n",
    "athlete2 = ProAthlete.createBasketballPlayer()\n",
    "print(athlete1.isCompetitor(athlete2))\n",
    "\n",
    "athlete2 = ProAthlete.createTennisPlayer()\n",
    "print(athlete1.isCompetitor(athlete2))"
   ],
   "id": "1d9f54d275eb33cb",
   "outputs": [
    {
     "name": "stdout",
     "output_type": "stream",
     "text": [
      "False\n",
      "True\n"
     ]
    }
   ],
   "execution_count": 102
  },
  {
   "metadata": {
    "ExecuteTime": {
     "end_time": "2025-03-10T00:52:43.894899Z",
     "start_time": "2025-03-10T00:52:43.891421Z"
    }
   },
   "cell_type": "code",
   "source": [
    "def is_competitor(athlete1, athlete2):\n",
    "    return athlete1['pro_athleticism'] == athlete2['pro_athleticism']\n",
    "\n",
    "athlete1 = create_basketball_player()\n",
    "athlete2 = create_tennis_player()\n",
    "print(is_competitor(athlete1, athlete2))"
   ],
   "id": "3207ccad4aeab590",
   "outputs": [
    {
     "name": "stdout",
     "output_type": "stream",
     "text": [
      "False\n"
     ]
    }
   ],
   "execution_count": 103
  },
  {
   "metadata": {
    "ExecuteTime": {
     "end_time": "2025-03-10T00:55:26.945869Z",
     "start_time": "2025-03-10T00:55:26.942406Z"
    }
   },
   "cell_type": "code",
   "source": [
    "#polymorphism marker classes\n",
    "\n",
    "class TennisPlayer(ProAthlete):\n",
    "    def __init__(self, name = 'John', athleticism = 10):\n",
    "        super().__init__(name = name, athleticism = athleticism, sport = 'tennis')\n",
    "\n",
    "class BasketballPlayer(ProAthlete):\n",
    "    def __init__(self, name = 'John', athleticism = 10):\n",
    "        super().__init__(name = name, athleticism = athleticism, sport = 'basketball')\n",
    "\n",
    "athlete = TennisPlayer()\n",
    "print(type(athlete) is TennisPlayer)"
   ],
   "id": "d12eb9a4844fb62e",
   "outputs": [
    {
     "name": "stdout",
     "output_type": "stream",
     "text": [
      "True\n"
     ]
    }
   ],
   "execution_count": 105
  },
  {
   "metadata": {
    "ExecuteTime": {
     "end_time": "2025-03-10T00:56:11.203355Z",
     "start_time": "2025-03-10T00:56:11.200619Z"
    }
   },
   "cell_type": "code",
   "source": [
    "athlete = create_tennis_player()\n",
    "print(type(athlete) is TennisPlayer)\n",
    "\n",
    "print(athlete['pro_athleticism'] == 'tennis')"
   ],
   "id": "97f3793f06dbc730",
   "outputs": [
    {
     "name": "stdout",
     "output_type": "stream",
     "text": [
      "False\n",
      "True\n"
     ]
    }
   ],
   "execution_count": 107
  },
  {
   "metadata": {
    "ExecuteTime": {
     "end_time": "2025-03-10T01:02:31.861864Z",
     "start_time": "2025-03-10T01:02:31.858098Z"
    }
   },
   "cell_type": "code",
   "source": [
    "#abstraction\n",
    "\n",
    "class Group:\n",
    "    def __init__(self,  people = []):\n",
    "        self.people = people\n",
    "\n",
    "    def train(self, amount = 1):\n",
    "        for people in self.people:\n",
    "            people.train(amount)\n",
    "\n",
    "    def __repr__(self):\n",
    "        return '\\n'.join([str(person) for person in self.people])\n",
    "\n",
    "    @staticmethod\n",
    "    def createGroup(*people):\n",
    "        return Group(people)\n",
    "\n",
    "group = Group([TennisPlayer(), BasketballPlayer()])\n",
    "print(group)\n",
    "\n",
    "group = Group.createGroup(TennisPlayer(), BasketballPlayer())\n",
    "print(group)"
   ],
   "id": "a82980c882c73f03",
   "outputs": [
    {
     "name": "stdout",
     "output_type": "stream",
     "text": [
      "Hi, my name is John and I am '10' athletic, I am an athlete, I am a pro athlete, I play tennis\n",
      "Hi, my name is John and I am '10' athletic, I am an athlete, I am a pro athlete, I play basketball\n",
      "Hi, my name is John and I am '10' athletic, I am an athlete, I am a pro athlete, I play tennis\n",
      "Hi, my name is John and I am '10' athletic, I am an athlete, I am a pro athlete, I play basketball\n"
     ]
    }
   ],
   "execution_count": 113
  },
  {
   "metadata": {
    "ExecuteTime": {
     "end_time": "2025-03-10T01:01:25.135584Z",
     "start_time": "2025-03-10T01:01:25.132220Z"
    }
   },
   "cell_type": "code",
   "source": [
    "def create_group(people = []):\n",
    "    group = {}\n",
    "    group['people'] = people\n",
    "    group['str'] = lambda: '\\n'.join([person['str']() for person in group['people']])\n",
    "    return group\n",
    "\n",
    "group = create_group([create_tennis_player(), create_basketball_player()])\n",
    "print(group['str']())"
   ],
   "id": "420377fc8fe44370",
   "outputs": [
    {
     "name": "stdout",
     "output_type": "stream",
     "text": [
      "Hi, my name is John, I am '10' athletic, I am an athlete, I am a pro athlete, I play tennis\n",
      "Hi, my name is John, I am '10' athletic, I am an athlete, I am a pro athlete, I play basketball\n"
     ]
    }
   ],
   "execution_count": 112
  },
  {
   "metadata": {
    "ExecuteTime": {
     "end_time": "2025-03-10T01:07:01.453543Z",
     "start_time": "2025-03-10T01:07:01.446223Z"
    }
   },
   "cell_type": "code",
   "source": [
    "#combining the whole\n",
    "def find_out_if_person_oop(mystery):\n",
    "    return type(mystery) is Person\n",
    "\n",
    "def find_out_if_person_func(mystery):\n",
    "    return type(mystery) is dict and all(key in mystery for key in ['name', 'athleticism'])\n"
   ],
   "id": "ce3bdd5423fe8b04",
   "outputs": [],
   "execution_count": 114
  }
 ],
 "metadata": {
  "kernelspec": {
   "display_name": "Python 3",
   "language": "python",
   "name": "python3"
  },
  "language_info": {
   "codemirror_mode": {
    "name": "ipython",
    "version": 2
   },
   "file_extension": ".py",
   "mimetype": "text/x-python",
   "name": "python",
   "nbconvert_exporter": "python",
   "pygments_lexer": "ipython2",
   "version": "2.7.6"
  }
 },
 "nbformat": 4,
 "nbformat_minor": 5
}
